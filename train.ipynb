{
 "cells": [
  {
   "cell_type": "code",
   "execution_count": 1,
   "metadata": {},
   "outputs": [],
   "source": [
    "import numpy as np\n",
    "import matplotlib.pyplot as plt\n",
    "import cv2\n",
    "import os\n",
    "import tensorflow as tf\n",
    "from PIL import Image\n",
    "\n",
    "from sklearn.model_selection import train_test_split\n",
    "\n",
    "from tensorflow.keras.utils import normalize, to_categorical\n",
    "from tensorflow.keras.models import Sequential, load_model\n",
    "from tensorflow.keras.layers import Conv2D, MaxPooling2D, Activation, Dropout, Flatten, Dense "
   ]
  },
  {
   "cell_type": "code",
   "execution_count": 3,
   "metadata": {},
   "outputs": [
    {
     "name": "stdout",
     "output_type": "stream",
     "text": [
      "No Tumor:  1500\n",
      "Tumor:  1500\n"
     ]
    }
   ],
   "source": [
    "image_directory='data/'\n",
    "no_tumor_images=os.listdir(image_directory+ 'not_detected/')\n",
    "yes_tumor_images=os.listdir(image_directory+ 'tumor_detected/')\n",
    "\n",
    "print('No Tumor: ', len(no_tumor_images))\n",
    "print('Tumor: ',len(yes_tumor_images))"
   ]
  },
  {
   "cell_type": "code",
   "execution_count": 4,
   "metadata": {},
   "outputs": [],
   "source": [
    "dataset=[]\n",
    "label=[]\n",
    "\n",
    "INPUT_SIZE=64\n"
   ]
  },
  {
   "cell_type": "code",
   "execution_count": 5,
   "metadata": {},
   "outputs": [],
   "source": [
    "for i , image_name in enumerate(no_tumor_images):\n",
    "    if(image_name.split('.')[1]=='jpg'):\n",
    "        image=cv2.imread(image_directory+'not_detected/'+image_name)\n",
    "        image=Image.fromarray(image,'RGB')\n",
    "        image=image.resize((INPUT_SIZE,INPUT_SIZE))\n",
    "        dataset.append(np.array(image))\n",
    "        label.append(0)"
   ]
  },
  {
   "cell_type": "code",
   "execution_count": 6,
   "metadata": {},
   "outputs": [],
   "source": [
    "for i , image_name in enumerate(yes_tumor_images):\n",
    "    if(image_name.split('.')[1]=='jpg'):\n",
    "        image=cv2.imread(image_directory+'tumor_detected/'+image_name)\n",
    "        image=Image.fromarray(image, 'RGB')\n",
    "        image=image.resize((INPUT_SIZE,INPUT_SIZE))\n",
    "        dataset.append(np.array(image))\n",
    "        label.append(1)"
   ]
  },
  {
   "cell_type": "code",
   "execution_count": 9,
   "metadata": {},
   "outputs": [
    {
     "name": "stdout",
     "output_type": "stream",
     "text": [
      "Dataset:  3000\n",
      "Label:  3000\n"
     ]
    }
   ],
   "source": [
    "ataset=np.array(dataset)\n",
    "label=np.array(label)\n",
    "\n",
    "print('Dataset: ',len(dataset))\n",
    "print('Label: ',len(label))"
   ]
  },
  {
   "cell_type": "code",
   "execution_count": 10,
   "metadata": {},
   "outputs": [],
   "source": [
    "X_train, X_test, y_train, y_test = train_test_split(dataset, label, test_size=0.2, random_state=2023)"
   ]
  },
  {
   "cell_type": "code",
   "execution_count": 11,
   "metadata": {},
   "outputs": [],
   "source": [
    "X_train = normalize(X_train, axis=1)\n",
    "X_test = normalize(X_test, axis=1)"
   ]
  },
  {
   "cell_type": "code",
   "execution_count": 12,
   "metadata": {},
   "outputs": [],
   "source": [
    "model=Sequential()\n",
    "\n",
    "model.add(Conv2D(32, (3,3),activation='relu', input_shape=(INPUT_SIZE, INPUT_SIZE, 3)))\n",
    "model.add(MaxPooling2D(pool_size=(2,2)))\n",
    "\n",
    "model.add(Conv2D(32, (3,3),activation='relu', kernel_initializer='he_uniform'))\n",
    "model.add(MaxPooling2D(pool_size=(2,2)))\n",
    "\n",
    "model.add(Conv2D(64, (3,3),activation='relu', kernel_initializer='he_uniform'))\n",
    "model.add(MaxPooling2D(pool_size=(2,2)))\n",
    "\n",
    "model.add(Flatten())\n",
    "model.add(Dense(64,activation='relu'))\n",
    "model.add(Dropout(0.5))\n",
    "model.add(Dense(1,activation='sigmoid'))"
   ]
  },
  {
   "cell_type": "code",
   "execution_count": 13,
   "metadata": {},
   "outputs": [],
   "source": [
    "model.compile(loss='binary_crossentropy',optimizer='adam', metrics=['accuracy'])"
   ]
  },
  {
   "cell_type": "code",
   "execution_count": 14,
   "metadata": {},
   "outputs": [
    {
     "name": "stdout",
     "output_type": "stream",
     "text": [
      "Epoch 1/14\n",
      "75/75 [==============================] - 11s 16ms/step - loss: 0.5651 - accuracy: 0.7133 - val_loss: 0.5073 - val_accuracy: 0.7733\n",
      "Epoch 2/14\n",
      "75/75 [==============================] - 1s 10ms/step - loss: 0.4344 - accuracy: 0.8046 - val_loss: 0.3630 - val_accuracy: 0.8483\n",
      "Epoch 3/14\n",
      "75/75 [==============================] - 1s 10ms/step - loss: 0.3429 - accuracy: 0.8529 - val_loss: 0.2861 - val_accuracy: 0.8850\n",
      "Epoch 4/14\n",
      "75/75 [==============================] - 1s 11ms/step - loss: 0.2674 - accuracy: 0.8958 - val_loss: 0.2465 - val_accuracy: 0.9033\n",
      "Epoch 5/14\n",
      "75/75 [==============================] - 1s 10ms/step - loss: 0.1934 - accuracy: 0.9262 - val_loss: 0.2216 - val_accuracy: 0.9050\n",
      "Epoch 6/14\n",
      "75/75 [==============================] - 1s 9ms/step - loss: 0.1377 - accuracy: 0.9533 - val_loss: 0.1498 - val_accuracy: 0.9400\n",
      "Epoch 7/14\n",
      "75/75 [==============================] - 1s 9ms/step - loss: 0.1067 - accuracy: 0.9629 - val_loss: 0.1567 - val_accuracy: 0.9500\n",
      "Epoch 8/14\n",
      "75/75 [==============================] - 1s 9ms/step - loss: 0.0672 - accuracy: 0.9792 - val_loss: 0.1186 - val_accuracy: 0.9683\n",
      "Epoch 9/14\n",
      "75/75 [==============================] - 1s 9ms/step - loss: 0.0570 - accuracy: 0.9817 - val_loss: 0.1123 - val_accuracy: 0.9617\n",
      "Epoch 10/14\n",
      "75/75 [==============================] - 1s 8ms/step - loss: 0.0473 - accuracy: 0.9867 - val_loss: 0.1316 - val_accuracy: 0.9700\n",
      "Epoch 11/14\n",
      "75/75 [==============================] - 1s 9ms/step - loss: 0.0244 - accuracy: 0.9929 - val_loss: 0.1058 - val_accuracy: 0.9700\n",
      "Epoch 12/14\n",
      "75/75 [==============================] - 1s 9ms/step - loss: 0.0205 - accuracy: 0.9958 - val_loss: 0.1316 - val_accuracy: 0.9700\n",
      "Epoch 13/14\n",
      "75/75 [==============================] - 1s 8ms/step - loss: 0.0115 - accuracy: 0.9979 - val_loss: 0.1234 - val_accuracy: 0.9767\n",
      "Epoch 14/14\n",
      "75/75 [==============================] - 1s 9ms/step - loss: 0.0088 - accuracy: 0.9987 - val_loss: 0.1215 - val_accuracy: 0.9783\n"
     ]
    },
    {
     "data": {
      "text/plain": [
       "<keras.callbacks.History at 0x278479c2050>"
      ]
     },
     "execution_count": 14,
     "metadata": {},
     "output_type": "execute_result"
    }
   ],
   "source": [
    "model.fit(X_train, y_train, \n",
    "batch_size=32, \n",
    "verbose=1, epochs=14, \n",
    "validation_data=(X_test, y_test),\n",
    "shuffle=True)"
   ]
  },
  {
   "cell_type": "code",
   "execution_count": 15,
   "metadata": {},
   "outputs": [],
   "source": [
    "model.save('BrainTumorDetection.h5')"
   ]
  }
 ],
 "metadata": {
  "kernelspec": {
   "display_name": "Python 3",
   "language": "python",
   "name": "python3"
  },
  "language_info": {
   "codemirror_mode": {
    "name": "ipython",
    "version": 3
   },
   "file_extension": ".py",
   "mimetype": "text/x-python",
   "name": "python",
   "nbconvert_exporter": "python",
   "pygments_lexer": "ipython3",
   "version": "3.10.9"
  },
  "orig_nbformat": 4
 },
 "nbformat": 4,
 "nbformat_minor": 2
}
